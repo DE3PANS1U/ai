{
 "cells": [
  {
   "cell_type": "code",
   "execution_count": 9,
   "metadata": {},
   "outputs": [
    {
     "name": "stdout",
     "output_type": "stream",
     "text": [
      "{'x': 10, 'y': 2.5, 'z': 'test'}\n",
      "10\n",
      "dict_values([10, 2.5, 'test'])\n"
     ]
    }
   ],
   "source": [
    "d = {'x': 10 , 'y': 2.5, 'z' : 'test'}\n",
    "print(d)\n",
    "print(d['x'])\n",
    "print(d.values())"
   ]
  },
  {
   "cell_type": "code",
   "execution_count": 10,
   "metadata": {},
   "outputs": [
    {
     "name": "stdout",
     "output_type": "stream",
     "text": [
      "Postive\n"
     ]
    }
   ],
   "source": [
    "a = int ( input(\"Enter a number:\"))\n",
    "if a>0:\n",
    "    print(\"Postive\")\n",
    "elif a==o:\n",
    "    print(\"zero\")\n",
    "else:\n",
    "    print(\"negative\")"
   ]
  },
  {
   "cell_type": "code",
   "execution_count": 11,
   "metadata": {},
   "outputs": [
    {
     "name": "stdout",
     "output_type": "stream",
     "text": [
      "1\n",
      "2\n",
      "3\n",
      "4\n",
      "5\n",
      "6\n",
      "7\n",
      "8\n",
      "9\n",
      "10\n"
     ]
    }
   ],
   "source": [
    "for i in range (1,11):\n",
    "    print(i)"
   ]
  },
  {
   "cell_type": "code",
   "execution_count": 12,
   "metadata": {},
   "outputs": [
    {
     "name": "stdout",
     "output_type": "stream",
     "text": [
      "N\n",
      "F\n",
      "S\n",
      "U\n"
     ]
    }
   ],
   "source": [
    "for x in 'NFSU':\n",
    "    print(x)"
   ]
  },
  {
   "cell_type": "code",
   "execution_count": 13,
   "metadata": {},
   "outputs": [
    {
     "name": "stdout",
     "output_type": "stream",
     "text": [
      "1\n",
      "3\n",
      "5\n",
      "7\n",
      "9\n"
     ]
    }
   ],
   "source": [
    "for x in range(1,10):\n",
    "    if x%2 == 0:\n",
    "        continue\n",
    "    print(x)"
   ]
  },
  {
   "cell_type": "code",
   "execution_count": 14,
   "metadata": {},
   "outputs": [
    {
     "name": "stdout",
     "output_type": "stream",
     "text": [
      "1\n",
      "2\n",
      "3\n",
      "4\n",
      "5\n",
      "6\n",
      "7\n",
      "8\n",
      "9\n",
      "10\n",
      "11\n",
      "12\n",
      "13\n",
      "14\n"
     ]
    }
   ],
   "source": [
    "for x in range (1,20):\n",
    "    if x ==15:\n",
    "        break\n",
    "    print(x)"
   ]
  },
  {
   "cell_type": "code",
   "execution_count": 15,
   "metadata": {},
   "outputs": [
    {
     "name": "stdout",
     "output_type": "stream",
     "text": [
      "this is before fuction call\n",
      "hello from function\n",
      "this is after function call\n"
     ]
    }
   ],
   "source": [
    "def my_print():\n",
    "    print(\"hello from function\")\n",
    "print(\"this is before fuction call\")\n",
    "my_print()\n",
    "print(\"this is after function call\")"
   ]
  },
  {
   "cell_type": "code",
   "execution_count": 16,
   "metadata": {},
   "outputs": [
    {
     "name": "stdout",
     "output_type": "stream",
     "text": [
      "hello + nm\n"
     ]
    }
   ],
   "source": [
    "def my_funtion(nm):\n",
    "    print(\"hello + nm\")\n",
    "my_funtion(\"NFSU\")"
   ]
  },
  {
   "cell_type": "code",
   "execution_count": 17,
   "metadata": {},
   "outputs": [
    {
     "name": "stdout",
     "output_type": "stream",
     "text": [
      "HelloNFSU\n",
      "HelloMTCS\n"
     ]
    }
   ],
   "source": [
    "def my_funtion(nm=\"MTCS\"):\n",
    "    print(\"Hello\" + nm)\n",
    "my_funtion(\"NFSU\")\n",
    "my_funtion()"
   ]
  },
  {
   "cell_type": "code",
   "execution_count": 22,
   "metadata": {},
   "outputs": [
    {
     "name": "stdout",
     "output_type": "stream",
     "text": [
      "Hello NFSU\n",
      "Hello Gandhinagar\n",
      "Hello MTCS\n"
     ]
    }
   ],
   "source": [
    "def my_funtion(*nm):\n",
    "    for i in range(0,len(nm)):\n",
    "        print(\"Hello \"+ nm[i])\n",
    "my_funtion(\"NFSU\", \"Gandhinagar\", \"MTCS\")"
   ]
  },
  {
   "cell_type": "code",
   "execution_count": 23,
   "metadata": {},
   "outputs": [
    {
     "name": "stdout",
     "output_type": "stream",
     "text": [
      "ahmedabad\n",
      "delhi\n",
      "mumbai\n"
     ]
    }
   ],
   "source": [
    "def my_cities(c):\n",
    "    for item in c:\n",
    "        print(item)\n",
    "cities = [\"ahmedabad\", \"delhi\", \"mumbai\"]\n",
    "my_cities(cities)"
   ]
  },
  {
   "cell_type": "code",
   "execution_count": 24,
   "metadata": {},
   "outputs": [
    {
     "name": "stdout",
     "output_type": "stream",
     "text": [
      "100\n"
     ]
    }
   ],
   "source": [
    "def my_square(n):\n",
    "    return n*n\n",
    "ans = my_square(10)\n",
    "print(ans)"
   ]
  }
 ],
 "metadata": {
  "kernelspec": {
   "display_name": "Python 3",
   "language": "python",
   "name": "python3"
  },
  "language_info": {
   "codemirror_mode": {
    "name": "ipython",
    "version": 3
   },
   "file_extension": ".py",
   "mimetype": "text/x-python",
   "name": "python",
   "nbconvert_exporter": "python",
   "pygments_lexer": "ipython3",
   "version": "3.11.4"
  }
 },
 "nbformat": 4,
 "nbformat_minor": 2
}
