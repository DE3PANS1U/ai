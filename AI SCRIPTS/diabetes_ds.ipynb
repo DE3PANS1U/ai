{
 "cells": [
  {
   "cell_type": "code",
   "execution_count": 78,
   "id": "b8af7c3e",
   "metadata": {},
   "outputs": [],
   "source": [
    "from sklearn.linear_model import LogisticRegression\n",
    "from sklearn.model_selection import train_test_split\n",
    "import pandas as pd\n",
    "from sklearn import metrics"
   ]
  },
  {
   "cell_type": "code",
   "execution_count": 79,
   "id": "31183b9e",
   "metadata": {},
   "outputs": [],
   "source": [
    "dataset = pd.read_csv('diabetes2.csv')\n",
    "dataset.head()\n",
    "dataset.isnull().any()\n",
    "dataset=dataset.fillna(method=\"ffill\")\n",
    "x = dataset[[\"Pregnancies\" , \"Glucose\", \"BloodPressure\", \"SkinThickness\", \"Insulin\", \"BMI\", \"DiabetesPedigreeFunction\", \"Age\", \"Outcome\"]]\n",
    "y = dataset['Outcome'].values"
   ]
  },
  {
   "cell_type": "code",
   "execution_count": 80,
   "id": "4d56f1f5",
   "metadata": {},
   "outputs": [],
   "source": [
    "x_train , x_test , y_train , y_test = train_test_split(x ,y,test_size = 0.2 , random_state = 42)\n",
    "logreg = LogisticRegression(solver = 'liblinear')\n",
    "logreg.fit (x_train , y_train)\n",
    "\n",
    "y_pred = logreg.predict(x_test)"
   ]
  },
  {
   "cell_type": "code",
   "execution_count": 81,
   "id": "8ea13f30",
   "metadata": {},
   "outputs": [
    {
     "data": {
      "text/plain": [
       "0.0"
      ]
     },
     "execution_count": 81,
     "metadata": {},
     "output_type": "execute_result"
    }
   ],
   "source": [
    "from sklearn.metrics import mean_squared_error\n",
    "rmse = mean_squared_error(y_pred , y_test , squared = False)\n",
    "rmse"
   ]
  },
  {
   "cell_type": "markdown",
   "id": "b064f47d",
   "metadata": {},
   "source": [
    "Check Model Accuracy"
   ]
  },
  {
   "cell_type": "code",
   "execution_count": 46,
   "id": "e59bca70",
   "metadata": {},
   "outputs": [
    {
     "name": "stdout",
     "output_type": "stream",
     "text": [
      "Accuracy : 1.0\n",
      "[[104   0]\n",
      " [  0  50]]\n"
     ]
    }
   ],
   "source": [
    "print(\"Accuracy :\" , metrics.accuracy_score(y_test , y_pred))\n",
    "cnf_matrix = metrics.confusion_matrix(y_test , y_pred)\n",
    "print(cnf_matrix)"
   ]
  },
  {
   "cell_type": "markdown",
   "id": "2e0e520a",
   "metadata": {},
   "source": [
    "Confusion Matrix"
   ]
  },
  {
   "cell_type": "code",
   "execution_count": 62,
   "id": "87528fda",
   "metadata": {},
   "outputs": [],
   "source": [
    "import seaborn as sns\n",
    "import numpy as np\n",
    "import matplotlib.pyplot as plt"
   ]
  },
  {
   "cell_type": "code",
   "execution_count": 63,
   "id": "80034d1b",
   "metadata": {},
   "outputs": [
    {
     "data": {
      "text/plain": [
       "([<matplotlib.axis.YTick at 0x26d9b27fa90>,\n",
       "  <matplotlib.axis.YTick at 0x26d9b26f050>],\n",
       " [Text(0, 0, '0'), Text(0, 1, '1')])"
      ]
     },
     "execution_count": 63,
     "metadata": {},
     "output_type": "execute_result"
    },
    {
     "data": {
      "image/png": "[encoded data removed]",
      "text/plain": [
       "<Figure size 640x480 with 1 Axes>"
      ]
     },
     "metadata": {},
     "output_type": "display_data"
    }
   ],
   "source": [
    "class_names = [0,1]\n",
    "fig, ax = plt.subplots()\n",
    "tick_marks = np.arange(len(class_names))\n",
    "plt.xticks(tick_marks , class_names)\n",
    "plt.yticks(tick_marks , class_names)"
   ]
  },
  {
   "cell_type": "markdown",
   "id": "b5f7ebe8",
   "metadata": {},
   "source": [
    "create Heatmap"
   ]
  },
  {
   "cell_type": "code",
   "execution_count": 82,
   "id": "278f9c18",
   "metadata": {},
   "outputs": [
    {
     "ename": "AttributeError",
     "evalue": "module 'matplotlib.pyplot' has no attribute 'ytitle'",
     "output_type": "error",
     "traceback": [
      "\u001b[1;31m---------------------------------------------------------------------------\u001b[0m",
      "\u001b[1;31mAttributeError\u001b[0m                            Traceback (most recent call last)",
      "Cell \u001b[1;32mIn[82], line 4\u001b[0m\n\u001b[0;32m      2\u001b[0m ax\u001b[38;5;241m.\u001b[39mxaxis\u001b[38;5;241m.\u001b[39mset_label_position(\u001b[38;5;124m\"\u001b[39m\u001b[38;5;124mbottom\u001b[39m\u001b[38;5;124m\"\u001b[39m)\n\u001b[0;32m      3\u001b[0m plt\u001b[38;5;241m.\u001b[39mtitle(\u001b[38;5;124m'\u001b[39m\u001b[38;5;124mconfusion matrix\u001b[39m\u001b[38;5;124m'\u001b[39m , y \u001b[38;5;241m=\u001b[39m \u001b[38;5;241m1.1\u001b[39m)\n\u001b[1;32m----> 4\u001b[0m plt\u001b[38;5;241m.\u001b[39mytitle(\u001b[38;5;124m'\u001b[39m\u001b[38;5;124mActual label\u001b[39m\u001b[38;5;124m'\u001b[39m)\n\u001b[0;32m      5\u001b[0m plt\u001b[38;5;241m.\u001b[39mxtitle(\u001b[38;5;124m'\u001b[39m\u001b[38;5;124mPredicted label\u001b[39m\u001b[38;5;124m'\u001b[39m)\n",
      "\u001b[1;31mAttributeError\u001b[0m: module 'matplotlib.pyplot' has no attribute 'ytitle'"
     ]
    },
    {
     "data": {
      "image/png": "[encoded data removed]",
      "text/plain": [
       "<Figure size 640x480 with 2 Axes>"
      ]
     },
     "metadata": {},
     "output_type": "display_data"
    }
   ],
   "source": [
    "sns.heatmap(pd.DataFrame(cnf_matrix) , annot = True , cmap = 'OrRd' , fmt = 'g')\n",
    "ax.xaxis.set_label_position(\"bottom\")\n",
    "plt.title('confusion matrix' , y = 1.1)\n",
    "plt.ytitle('Actual label')\n",
    "plt.xtitle('Predicted label')"
   ]
  },
  {
   "cell_type": "code",
   "execution_count": null,
   "id": "5ab5e66e",
   "metadata": {},
   "outputs": [],
   "source": []
  }
 ],
 "metadata": {
  "kernelspec": {
   "display_name": "Python 3 (ipykernel)",
   "language": "python",
   "name": "python3"
  },
  "language_info": {
   "codemirror_mode": {
    "name": "ipython",
    "version": 3
   },
   "file_extension": ".py",
   "mimetype": "text/x-python",
   "name": "python",
   "nbconvert_exporter": "python",
   "pygments_lexer": "ipython3",
   "version": "3.11.4"
  }
 },
 "nbformat": 4,
 "nbformat_minor": 5
}
